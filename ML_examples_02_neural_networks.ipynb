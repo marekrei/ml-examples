{
  "nbformat": 4,
  "nbformat_minor": 0,
  "metadata": {
    "colab": {
      "name": "ML_examples_02_neural_networks.ipynb",
      "provenance": [],
      "include_colab_link": true
    },
    "kernelspec": {
      "name": "python3",
      "display_name": "Python 3"
    }
  },
  "cells": [
    {
      "cell_type": "markdown",
      "metadata": {
        "id": "view-in-github",
        "colab_type": "text"
      },
      "source": [
        "<a href=\"https://colab.research.google.com/github/marekrei/ml-examples/blob/main/ML_examples_02_neural_networks.ipynb\" target=\"_parent\"><img src=\"https://colab.research.google.com/assets/colab-badge.svg\" alt=\"Open In Colab\"/></a>"
      ]
    },
    {
      "cell_type": "markdown",
      "metadata": {
        "id": "tb77vx1tuyPj"
      },
      "source": [
        "# Machine Learning Examples - 02 - Neural Networks"
      ]
    },
    {
      "cell_type": "markdown",
      "source": [
        "Predicting whether the income of a person is below or above 50K.\n",
        "Implementing and training a neural network for binary classification.\n",
        "\n",
        "We are using the census dataset: https://archive.ics.uci.edu/dataset/2/adult"
      ],
      "metadata": {
        "id": "i9booeZAOGaD"
      }
    },
    {
      "cell_type": "code",
      "source": [
        "import pandas as pd\n",
        "import numpy as np\n",
        "from sklearn.model_selection import train_test_split\n",
        "from sklearn.preprocessing import StandardScaler, OneHotEncoder\n",
        "from sklearn.compose import ColumnTransformer\n",
        "from sklearn.pipeline import Pipeline\n",
        "from sklearn.metrics import accuracy_score, confusion_matrix, ConfusionMatrixDisplay\n",
        "import matplotlib.pyplot as plt\n",
        "import torch\n",
        "import torch.nn as nn\n",
        "import torch.optim as optim\n",
        "from torch.utils.data import DataLoader, Dataset\n",
        "\n",
        "# Load datasets\n",
        "train_data = pd.read_csv('https://raw.githubusercontent.com/marekrei/ml-examples/main/data/census_data/train.csv', skipinitialspace=True)\n",
        "test_data = pd.read_csv('https://raw.githubusercontent.com/marekrei/ml-examples/main/data/census_data/test.csv', skipinitialspace=True)\n",
        "\n",
        "# Separate features and labels\n",
        "X_train = train_data.drop(\"income\", axis=1)\n",
        "y_train = (train_data[\"income\"] == \">50K\").astype(int)  # Convert to binary\n",
        "X_test = test_data.drop(\"income\", axis=1)\n",
        "y_test = (test_data[\"income\"] == \">50K\").astype(int)\n",
        "\n",
        "# Define continuous and categorical features\n",
        "continuous_features = [\"age\", \"fnlwgt\", \"education-num\", \"capital-gain\", \"capital-loss\", \"hours-per-week\"]\n",
        "categorical_features = [\"workclass\", \"education\", \"marital-status\", \"occupation\", \"relationship\", \"race\", \"sex\", \"native-country\"]\n",
        "\n",
        "# Preprocessing pipeline\n",
        "preprocessor = ColumnTransformer(\n",
        "    transformers=[\n",
        "        (\"num\", StandardScaler(), continuous_features),\n",
        "        (\"cat\", OneHotEncoder(handle_unknown=\"ignore\"), categorical_features)\n",
        "    ]\n",
        ")\n",
        "\n",
        "# Fit on training data and transform both train and test data\n",
        "X_train_processed = preprocessor.fit_transform(X_train)\n",
        "X_test_processed = preprocessor.transform(X_test)\n",
        "\n",
        "# Convert to PyTorch tensors\n",
        "X_train_tensor = torch.tensor(X_train_processed.toarray(), dtype=torch.float32)\n",
        "X_test_tensor = torch.tensor(X_test_processed.toarray(), dtype=torch.float32)\n",
        "y_train_tensor = torch.tensor(y_train.values, dtype=torch.float32).view(-1, 1)\n",
        "y_test_tensor = torch.tensor(y_test.values, dtype=torch.float32).view(-1, 1)\n",
        "\n",
        "# Define a PyTorch Dataset class\n",
        "class IncomeDataset(Dataset):\n",
        "    def __init__(self, features, labels):\n",
        "        self.features = features\n",
        "        self.labels = labels\n",
        "\n",
        "    def __len__(self):\n",
        "        return len(self.labels)\n",
        "\n",
        "    def __getitem__(self, idx):\n",
        "        return self.features[idx], self.labels[idx]\n",
        "\n",
        "train_dataset = IncomeDataset(X_train_tensor, y_train_tensor)\n",
        "test_dataset = IncomeDataset(X_test_tensor, y_test_tensor)\n",
        "\n",
        "train_loader = DataLoader(train_dataset, batch_size=64, shuffle=True)\n",
        "test_loader = DataLoader(test_dataset, batch_size=64, shuffle=False)\n",
        "\n",
        "# Define a simple neural network model\n",
        "class IncomePredictionModel(nn.Module):\n",
        "    def __init__(self, input_dim, hidden_layer_size):\n",
        "        super(IncomePredictionModel, self).__init__()\n",
        "        self.fc = nn.Sequential(\n",
        "            nn.Linear(input_dim, hidden_layer_size),\n",
        "            nn.ReLU(),\n",
        "            nn.Dropout(0.3),\n",
        "            nn.Linear(hidden_layer_size, 1),\n",
        "            nn.Sigmoid()\n",
        "        )\n",
        "\n",
        "    def forward(self, x):\n",
        "        return self.fc(x)\n",
        "\n",
        "# Model hyperparameters\n",
        "epochs = 10\n",
        "learning_rate = 0.001\n",
        "hidden_layer_size = 64\n",
        "\n",
        "# Model initialization\n",
        "input_dim = X_train_tensor.shape[1]\n",
        "model = IncomePredictionModel(input_dim, hidden_layer_size)\n",
        "\n",
        "# Define loss function and optimizer\n",
        "criterion = nn.BCELoss()\n",
        "optimizer = optim.Adam(model.parameters(), lr=learning_rate)\n",
        "\n",
        "# Training loop\n",
        "for epoch in range(epochs):\n",
        "    model.train()\n",
        "    running_loss = 0.0\n",
        "    for features, labels in train_loader:\n",
        "        optimizer.zero_grad()\n",
        "        outputs = model(features)\n",
        "        loss = criterion(outputs, labels)\n",
        "        loss.backward()\n",
        "        optimizer.step()\n",
        "        running_loss += loss.item()\n",
        "\n",
        "    print(f\"Epoch {epoch + 1}/{epochs}, Loss: {running_loss / len(train_loader):.4f}\")\n",
        "\n",
        "# Evaluation\n",
        "model.eval()\n",
        "predictions = []\n",
        "true_labels = []\n",
        "\n",
        "with torch.no_grad():\n",
        "    for features, labels in test_loader:\n",
        "        outputs = model(features)\n",
        "        predictions.extend(outputs.numpy())\n",
        "        true_labels.extend(labels.numpy())\n",
        "\n",
        "predictions = np.array(predictions) >= 0.5\n",
        "accuracy = accuracy_score(true_labels, predictions)\n",
        "print(f\"\\nTest Accuracy: {accuracy:.4f}\")\n",
        "\n",
        "# Display confusion matrix\n",
        "conf_matrix = confusion_matrix(true_labels, predictions)\n",
        "disp = ConfusionMatrixDisplay(confusion_matrix=conf_matrix, display_labels=[\"<=50K\", \">50K\"])\n",
        "disp.plot(cmap=plt.cm.Blues)\n",
        "plt.title(\"Confusion Matrix\")\n",
        "plt.show()"
      ],
      "metadata": {
        "id": "kbi-PQlGNNau",
        "outputId": "ed629372-069e-4e97-c8b5-4414bb233649",
        "colab": {
          "base_uri": "https://localhost:8080/",
          "height": 680
        }
      },
      "execution_count": 60,
      "outputs": [
        {
          "output_type": "stream",
          "name": "stdout",
          "text": [
            "Epoch 1/10, Loss: 0.3615\n",
            "Epoch 2/10, Loss: 0.3163\n",
            "Epoch 3/10, Loss: 0.3130\n",
            "Epoch 4/10, Loss: 0.3093\n",
            "Epoch 5/10, Loss: 0.3079\n",
            "Epoch 6/10, Loss: 0.3071\n",
            "Epoch 7/10, Loss: 0.3057\n",
            "Epoch 8/10, Loss: 0.3044\n",
            "Epoch 9/10, Loss: 0.3042\n",
            "Epoch 10/10, Loss: 0.3030\n",
            "\n",
            "Test Accuracy: 0.8582\n"
          ]
        },
        {
          "output_type": "display_data",
          "data": {
            "text/plain": [
              "<Figure size 640x480 with 2 Axes>"
            ],
            "image/png": "[encoded data removed]"
          },
          "metadata": {}
        }
      ]
    }
  ]
}