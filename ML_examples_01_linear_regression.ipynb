{
  "nbformat": 4,
  "nbformat_minor": 0,
  "metadata": {
    "colab": {
      "name": "ML_examples_01_linear_regression.ipynb",
      "provenance": [],
      "include_colab_link": true
    },
    "kernelspec": {
      "name": "python3",
      "display_name": "Python 3"
    }
  },
  "cells": [
    {
      "cell_type": "markdown",
      "metadata": {
        "id": "view-in-github",
        "colab_type": "text"
      },
      "source": [
        "<a href=\"https://colab.research.google.com/github/marekrei/ml-examples/blob/main/ML_examples_01_linear_regression.ipynb\" target=\"_parent\"><img src=\"https://colab.research.google.com/assets/colab-badge.svg\" alt=\"Open In Colab\"/></a>"
      ]
    },
    {
      "cell_type": "markdown",
      "metadata": {
        "id": "tb77vx1tuyPj"
      },
      "source": [
        "# Machine Learning Examples - 01 - Linear Regression"
      ]
    },
    {
      "cell_type": "markdown",
      "metadata": {
        "id": "zbfVfJcCukgK"
      },
      "source": [
        "Loading the necessary libraries and the dataset.\n",
        "\n",
        "We are using an example dataset containing statistics about different countries.\n",
        "\n"
      ]
    },
    {
      "cell_type": "code",
      "metadata": {
        "id": "NCim8TU-mrqY"
      },
      "source": [
        "import pandas as pd\n",
        "import numpy as np\n",
        "import matplotlib.pylab as plt\n",
        "from sklearn.linear_model import LinearRegression\n",
        "from sklearn import preprocessing\n",
        "from sklearn.preprocessing import PolynomialFeatures\n",
        "from sklearn.model_selection import train_test_split\n",
        "from sklearn.metrics import mean_squared_error\n",
        "import xgboost as xgb"
      ],
      "execution_count": 1,
      "outputs": []
    },
    {
      "cell_type": "markdown",
      "source": [
        "Loading and preparing the data. Splitting into train and test set."
      ],
      "metadata": {
        "id": "4a5BW9cTj9bW"
      }
    },
    {
      "cell_type": "code",
      "source": [
        "data = pd.read_csv('https://raw.githubusercontent.com/marekrei/ml-examples/main/data/country-stats.csv')\n",
        "\n",
        "X = data.copy().drop([\"Country Name\", \"Enrolment Rate, Tertiary (%)\"], axis=1)\n",
        "Y = data[\"Enrolment Rate, Tertiary (%)\"]\n",
        "\n",
        "X_train, X_test, Y_train, Y_test = train_test_split(X, Y, test_size=0.2, random_state=42)\n",
        "\n",
        "data.head()"
      ],
      "metadata": {
        "id": "huhven2TkCDs",
        "outputId": "9aeac9f0-35f5-4ab8-d0e5-65339a7630ae",
        "colab": {
          "base_uri": "https://localhost:8080/",
          "height": 276
        }
      },
      "execution_count": 2,
      "outputs": [
        {
          "output_type": "execute_result",
          "data": {
            "text/plain": [
              "          Country Name  GDP per Capita (PPP USD)  \\\n",
              "0          Afghanistan                   1560.67   \n",
              "1              Albania                   9403.43   \n",
              "2              Algeria                   8515.35   \n",
              "3  Antigua and Barbuda                  19640.35   \n",
              "4            Argentina                  12016.20   \n",
              "\n",
              "   Population Density (persons per sq km)  Population Growth Rate (%)  \\\n",
              "0                                   44.62                        2.44   \n",
              "1                                  115.11                        0.26   \n",
              "2                                   15.86                        1.89   \n",
              "3                                  200.35                        1.03   \n",
              "4                                   14.88                        0.88   \n",
              "\n",
              "   Urban Population (%)  Life Expectancy at Birth (avg years)  \\\n",
              "0                 23.86                                 60.07   \n",
              "1                 54.45                                 77.16   \n",
              "2                 73.71                                 70.75   \n",
              "3                 29.87                                 75.50   \n",
              "4                 92.64                                 75.84   \n",
              "\n",
              "   Fertility Rate (births per woman)  \\\n",
              "0                               5.39   \n",
              "1                               1.75   \n",
              "2                               2.83   \n",
              "3                               2.12   \n",
              "4                               2.20   \n",
              "\n",
              "   Infant Mortality (deaths per 1000 births)  Enrolment Rate, Tertiary (%)  \\\n",
              "0                                       71.0                          3.33   \n",
              "1                                       15.0                         54.85   \n",
              "2                                       25.6                         31.46   \n",
              "3                                        9.2                         14.37   \n",
              "4                                       12.7                         74.83   \n",
              "\n",
              "   Unemployment, Total (%)  \\\n",
              "0                      8.5   \n",
              "1                     14.2   \n",
              "2                     10.0   \n",
              "3                      8.4   \n",
              "4                      7.2   \n",
              "\n",
              "   Estimated Control of Corruption (scale -2.5 to 2.5)  \\\n",
              "0                                              -1.41     \n",
              "1                                              -0.72     \n",
              "2                                              -0.54     \n",
              "3                                               1.29     \n",
              "4                                              -0.49     \n",
              "\n",
              "   Estimated Government Effectiveness (scale -2.5 to 2.5)  Internet Users (%)  \n",
              "0                                              -1.40                     5.45  \n",
              "1                                              -0.28                    54.66  \n",
              "2                                              -0.55                    15.23  \n",
              "3                                               0.48                    83.79  \n",
              "4                                              -0.25                    55.80  "
            ],
            "text/html": [
              "\n",
              "  <div id=\"df-81752480-c69a-46fc-a00a-cb7589a6055e\" class=\"colab-df-container\">\n",
              "    <div>\n",
              "<style scoped>\n",
              "    .dataframe tbody tr th:only-of-type {\n",
              "        vertical-align: middle;\n",
              "    }\n",
              "\n",
              "    .dataframe tbody tr th {\n",
              "        vertical-align: top;\n",
              "    }\n",
              "\n",
              "    .dataframe thead th {\n",
              "        text-align: right;\n",
              "    }\n",
              "</style>\n",
              "<table border=\"1\" class=\"dataframe\">\n",
              "  <thead>\n",
              "    <tr style=\"text-align: right;\">\n",
              "      <th></th>\n",
              "      <th>Country Name</th>\n",
              "      <th>GDP per Capita (PPP USD)</th>\n",
              "      <th>Population Density (persons per sq km)</th>\n",
              "      <th>Population Growth Rate (%)</th>\n",
              "      <th>Urban Population (%)</th>\n",
              "      <th>Life Expectancy at Birth (avg years)</th>\n",
              "      <th>Fertility Rate (births per woman)</th>\n",
              "      <th>Infant Mortality (deaths per 1000 births)</th>\n",
              "      <th>Enrolment Rate, Tertiary (%)</th>\n",
              "      <th>Unemployment, Total (%)</th>\n",
              "      <th>Estimated Control of Corruption (scale -2.5 to 2.5)</th>\n",
              "      <th>Estimated Government Effectiveness (scale -2.5 to 2.5)</th>\n",
              "      <th>Internet Users (%)</th>\n",
              "    </tr>\n",
              "  </thead>\n",
              "  <tbody>\n",
              "    <tr>\n",
              "      <th>0</th>\n",
              "      <td>Afghanistan</td>\n",
              "      <td>1560.67</td>\n",
              "      <td>44.62</td>\n",
              "      <td>2.44</td>\n",
              "      <td>23.86</td>\n",
              "      <td>60.07</td>\n",
              "      <td>5.39</td>\n",
              "      <td>71.0</td>\n",
              "      <td>3.33</td>\n",
              "      <td>8.5</td>\n",
              "      <td>-1.41</td>\n",
              "      <td>-1.40</td>\n",
              "      <td>5.45</td>\n",
              "    </tr>\n",
              "    <tr>\n",
              "      <th>1</th>\n",
              "      <td>Albania</td>\n",
              "      <td>9403.43</td>\n",
              "      <td>115.11</td>\n",
              "      <td>0.26</td>\n",
              "      <td>54.45</td>\n",
              "      <td>77.16</td>\n",
              "      <td>1.75</td>\n",
              "      <td>15.0</td>\n",
              "      <td>54.85</td>\n",
              "      <td>14.2</td>\n",
              "      <td>-0.72</td>\n",
              "      <td>-0.28</td>\n",
              "      <td>54.66</td>\n",
              "    </tr>\n",
              "    <tr>\n",
              "      <th>2</th>\n",
              "      <td>Algeria</td>\n",
              "      <td>8515.35</td>\n",
              "      <td>15.86</td>\n",
              "      <td>1.89</td>\n",
              "      <td>73.71</td>\n",
              "      <td>70.75</td>\n",
              "      <td>2.83</td>\n",
              "      <td>25.6</td>\n",
              "      <td>31.46</td>\n",
              "      <td>10.0</td>\n",
              "      <td>-0.54</td>\n",
              "      <td>-0.55</td>\n",
              "      <td>15.23</td>\n",
              "    </tr>\n",
              "    <tr>\n",
              "      <th>3</th>\n",
              "      <td>Antigua and Barbuda</td>\n",
              "      <td>19640.35</td>\n",
              "      <td>200.35</td>\n",
              "      <td>1.03</td>\n",
              "      <td>29.87</td>\n",
              "      <td>75.50</td>\n",
              "      <td>2.12</td>\n",
              "      <td>9.2</td>\n",
              "      <td>14.37</td>\n",
              "      <td>8.4</td>\n",
              "      <td>1.29</td>\n",
              "      <td>0.48</td>\n",
              "      <td>83.79</td>\n",
              "    </tr>\n",
              "    <tr>\n",
              "      <th>4</th>\n",
              "      <td>Argentina</td>\n",
              "      <td>12016.20</td>\n",
              "      <td>14.88</td>\n",
              "      <td>0.88</td>\n",
              "      <td>92.64</td>\n",
              "      <td>75.84</td>\n",
              "      <td>2.20</td>\n",
              "      <td>12.7</td>\n",
              "      <td>74.83</td>\n",
              "      <td>7.2</td>\n",
              "      <td>-0.49</td>\n",
              "      <td>-0.25</td>\n",
              "      <td>55.80</td>\n",
              "    </tr>\n",
              "  </tbody>\n",
              "</table>\n",
              "</div>\n",
              "    <div class=\"colab-df-buttons\">\n",
              "\n",
              "  <div class=\"colab-df-container\">\n",
              "    <button class=\"colab-df-convert\" onclick=\"convertToInteractive('df-81752480-c69a-46fc-a00a-cb7589a6055e')\"\n",
              "            title=\"Convert this dataframe to an interactive table.\"\n",
              "            style=\"display:none;\">\n",
              "\n",
              "  <svg xmlns=\"http://www.w3.org/2000/svg\" height=\"24px\" viewBox=\"0 -960 960 960\">\n",
              "    <path d=\"M120-120v-720h720v720H120Zm60-500h600v-160H180v160Zm220 220h160v-160H400v160Zm0 220h160v-160H400v160ZM180-400h160v-160H180v160Zm440 0h160v-160H620v160ZM180-180h160v-160H180v160Zm440 0h160v-160H620v160Z\"/>\n",
              "  </svg>\n",
              "    </button>\n",
              "\n",
              "  <style>\n",
              "    .colab-df-container {\n",
              "      display:flex;\n",
              "      gap: 12px;\n",
              "    }\n",
              "\n",
              "    .colab-df-convert {\n",
              "      background-color: #E8F0FE;\n",
              "      border: none;\n",
              "      border-radius: 50%;\n",
              "      cursor: pointer;\n",
              "      display: none;\n",
              "      fill: #1967D2;\n",
              "      height: 32px;\n",
              "      padding: 0 0 0 0;\n",
              "      width: 32px;\n",
              "    }\n",
              "\n",
              "    .colab-df-convert:hover {\n",
              "      background-color: #E2EBFA;\n",
              "      box-shadow: 0px 1px 2px rgba(60, 64, 67, 0.3), 0px 1px 3px 1px rgba(60, 64, 67, 0.15);\n",
              "      fill: #174EA6;\n",
              "    }\n",
              "\n",
              "    .colab-df-buttons div {\n",
              "      margin-bottom: 4px;\n",
              "    }\n",
              "\n",
              "    [theme=dark] .colab-df-convert {\n",
              "      background-color: #3B4455;\n",
              "      fill: #D2E3FC;\n",
              "    }\n",
              "\n",
              "    [theme=dark] .colab-df-convert:hover {\n",
              "      background-color: #434B5C;\n",
              "      box-shadow: 0px 1px 3px 1px rgba(0, 0, 0, 0.15);\n",
              "      filter: drop-shadow(0px 1px 2px rgba(0, 0, 0, 0.3));\n",
              "      fill: #FFFFFF;\n",
              "    }\n",
              "  </style>\n",
              "\n",
              "    <script>\n",
              "      const buttonEl =\n",
              "        document.querySelector('#df-81752480-c69a-46fc-a00a-cb7589a6055e button.colab-df-convert');\n",
              "      buttonEl.style.display =\n",
              "        google.colab.kernel.accessAllowed ? 'block' : 'none';\n",
              "\n",
              "      async function convertToInteractive(key) {\n",
              "        const element = document.querySelector('#df-81752480-c69a-46fc-a00a-cb7589a6055e');\n",
              "        const dataTable =\n",
              "          await google.colab.kernel.invokeFunction('convertToInteractive',\n",
              "                                                    [key], {});\n",
              "        if (!dataTable) return;\n",
              "\n",
              "        const docLinkHtml = 'Like what you see? Visit the ' +\n",
              "          '<a target=\"_blank\" href=https://colab.research.google.com/notebooks/data_table.ipynb>data table notebook</a>'\n",
              "          + ' to learn more about interactive tables.';\n",
              "        element.innerHTML = '';\n",
              "        dataTable['output_type'] = 'display_data';\n",
              "        await google.colab.output.renderOutput(dataTable, element);\n",
              "        const docLink = document.createElement('div');\n",
              "        docLink.innerHTML = docLinkHtml;\n",
              "        element.appendChild(docLink);\n",
              "      }\n",
              "    </script>\n",
              "  </div>\n",
              "\n",
              "\n",
              "<div id=\"df-f806ffde-6a61-451b-be14-b0c730afdefe\">\n",
              "  <button class=\"colab-df-quickchart\" onclick=\"quickchart('df-f806ffde-6a61-451b-be14-b0c730afdefe')\"\n",
              "            title=\"Suggest charts\"\n",
              "            style=\"display:none;\">\n",
              "\n",
              "<svg xmlns=\"http://www.w3.org/2000/svg\" height=\"24px\"viewBox=\"0 0 24 24\"\n",
              "     width=\"24px\">\n",
              "    <g>\n",
              "        <path d=\"M19 3H5c-1.1 0-2 .9-2 2v14c0 1.1.9 2 2 2h14c1.1 0 2-.9 2-2V5c0-1.1-.9-2-2-2zM9 17H7v-7h2v7zm4 0h-2V7h2v10zm4 0h-2v-4h2v4z\"/>\n",
              "    </g>\n",
              "</svg>\n",
              "  </button>\n",
              "\n",
              "<style>\n",
              "  .colab-df-quickchart {\n",
              "      --bg-color: #E8F0FE;\n",
              "      --fill-color: #1967D2;\n",
              "      --hover-bg-color: #E2EBFA;\n",
              "      --hover-fill-color: #174EA6;\n",
              "      --disabled-fill-color: #AAA;\n",
              "      --disabled-bg-color: #DDD;\n",
              "  }\n",
              "\n",
              "  [theme=dark] .colab-df-quickchart {\n",
              "      --bg-color: #3B4455;\n",
              "      --fill-color: #D2E3FC;\n",
              "      --hover-bg-color: #434B5C;\n",
              "      --hover-fill-color: #FFFFFF;\n",
              "      --disabled-bg-color: #3B4455;\n",
              "      --disabled-fill-color: #666;\n",
              "  }\n",
              "\n",
              "  .colab-df-quickchart {\n",
              "    background-color: var(--bg-color);\n",
              "    border: none;\n",
              "    border-radius: 50%;\n",
              "    cursor: pointer;\n",
              "    display: none;\n",
              "    fill: var(--fill-color);\n",
              "    height: 32px;\n",
              "    padding: 0;\n",
              "    width: 32px;\n",
              "  }\n",
              "\n",
              "  .colab-df-quickchart:hover {\n",
              "    background-color: var(--hover-bg-color);\n",
              "    box-shadow: 0 1px 2px rgba(60, 64, 67, 0.3), 0 1px 3px 1px rgba(60, 64, 67, 0.15);\n",
              "    fill: var(--button-hover-fill-color);\n",
              "  }\n",
              "\n",
              "  .colab-df-quickchart-complete:disabled,\n",
              "  .colab-df-quickchart-complete:disabled:hover {\n",
              "    background-color: var(--disabled-bg-color);\n",
              "    fill: var(--disabled-fill-color);\n",
              "    box-shadow: none;\n",
              "  }\n",
              "\n",
              "  .colab-df-spinner {\n",
              "    border: 2px solid var(--fill-color);\n",
              "    border-color: transparent;\n",
              "    border-bottom-color: var(--fill-color);\n",
              "    animation:\n",
              "      spin 1s steps(1) infinite;\n",
              "  }\n",
              "\n",
              "  @keyframes spin {\n",
              "    0% {\n",
              "      border-color: transparent;\n",
              "      border-bottom-color: var(--fill-color);\n",
              "      border-left-color: var(--fill-color);\n",
              "    }\n",
              "    20% {\n",
              "      border-color: transparent;\n",
              "      border-left-color: var(--fill-color);\n",
              "      border-top-color: var(--fill-color);\n",
              "    }\n",
              "    30% {\n",
              "      border-color: transparent;\n",
              "      border-left-color: var(--fill-color);\n",
              "      border-top-color: var(--fill-color);\n",
              "      border-right-color: var(--fill-color);\n",
              "    }\n",
              "    40% {\n",
              "      border-color: transparent;\n",
              "      border-right-color: var(--fill-color);\n",
              "      border-top-color: var(--fill-color);\n",
              "    }\n",
              "    60% {\n",
              "      border-color: transparent;\n",
              "      border-right-color: var(--fill-color);\n",
              "    }\n",
              "    80% {\n",
              "      border-color: transparent;\n",
              "      border-right-color: var(--fill-color);\n",
              "      border-bottom-color: var(--fill-color);\n",
              "    }\n",
              "    90% {\n",
              "      border-color: transparent;\n",
              "      border-bottom-color: var(--fill-color);\n",
              "    }\n",
              "  }\n",
              "</style>\n",
              "\n",
              "  <script>\n",
              "    async function quickchart(key) {\n",
              "      const quickchartButtonEl =\n",
              "        document.querySelector('#' + key + ' button');\n",
              "      quickchartButtonEl.disabled = true;  // To prevent multiple clicks.\n",
              "      quickchartButtonEl.classList.add('colab-df-spinner');\n",
              "      try {\n",
              "        const charts = await google.colab.kernel.invokeFunction(\n",
              "            'suggestCharts', [key], {});\n",
              "      } catch (error) {\n",
              "        console.error('Error during call to suggestCharts:', error);\n",
              "      }\n",
              "      quickchartButtonEl.classList.remove('colab-df-spinner');\n",
              "      quickchartButtonEl.classList.add('colab-df-quickchart-complete');\n",
              "    }\n",
              "    (() => {\n",
              "      let quickchartButtonEl =\n",
              "        document.querySelector('#df-f806ffde-6a61-451b-be14-b0c730afdefe button');\n",
              "      quickchartButtonEl.style.display =\n",
              "        google.colab.kernel.accessAllowed ? 'block' : 'none';\n",
              "    })();\n",
              "  </script>\n",
              "</div>\n",
              "\n",
              "    </div>\n",
              "  </div>\n"
            ],
            "application/vnd.google.colaboratory.intrinsic+json": {
              "type": "dataframe",
              "variable_name": "data",
              "summary": "{\n  \"name\": \"data\",\n  \"rows\": 161,\n  \"fields\": [\n    {\n      \"column\": \"Country Name\",\n      \"properties\": {\n        \"dtype\": \"string\",\n        \"num_unique_values\": 161,\n        \"samples\": [\n          \"Nicaragua\",\n          \"Norway\",\n          \"Tanzania\"\n        ],\n        \"semantic_type\": \"\",\n        \"description\": \"\"\n      }\n    },\n    {\n      \"column\": \"GDP per Capita (PPP USD)\",\n      \"properties\": {\n        \"dtype\": \"number\",\n        \"std\": 16406.92623365261,\n        \"min\": 551.27,\n        \"max\": 88286.0,\n        \"num_unique_values\": 161,\n        \"samples\": [\n          4071.98,\n          65639.83,\n          1574.78\n        ],\n        \"semantic_type\": \"\",\n        \"description\": \"\"\n      }\n    },\n    {\n      \"column\": \"Population Density (persons per sq km)\",\n      \"properties\": {\n        \"dtype\": \"number\",\n        \"std\": 228.164746056757,\n        \"min\": 1.77,\n        \"max\": 1701.01,\n        \"num_unique_values\": 160,\n        \"samples\": [\n          13.04,\n          228.53,\n          52.33\n        ],\n        \"semantic_type\": \"\",\n        \"description\": \"\"\n      }\n    },\n    {\n      \"column\": \"Population Growth Rate (%)\",\n      \"properties\": {\n        \"dtype\": \"number\",\n        \"std\": 1.1528265526778114,\n        \"min\": -1.6,\n        \"max\": 7.05,\n        \"num_unique_values\": 129,\n        \"samples\": [\n          1.39,\n          0.66,\n          1.4\n        ],\n        \"semantic_type\": \"\",\n        \"description\": \"\"\n      }\n    },\n    {\n      \"column\": \"Urban Population (%)\",\n      \"properties\": {\n        \"dtype\": \"number\",\n        \"std\": 23.219884712707525,\n        \"min\": 11.21,\n        \"max\": 98.89,\n        \"num_unique_values\": 160,\n        \"samples\": [\n          57.86,\n          79.65,\n          56.46\n        ],\n        \"semantic_type\": \"\",\n        \"description\": \"\"\n      }\n    },\n    {\n      \"column\": \"Life Expectancy at Birth (avg years)\",\n      \"properties\": {\n        \"dtype\": \"number\",\n        \"std\": 8.800196597535734,\n        \"min\": 47.78,\n        \"max\": 82.7,\n        \"num_unique_values\": 153,\n        \"samples\": [\n          74.79,\n          74.67,\n          49.49\n        ],\n        \"semantic_type\": \"\",\n        \"description\": \"\"\n      }\n    },\n    {\n      \"column\": \"Fertility Rate (births per woman)\",\n      \"properties\": {\n        \"dtype\": \"number\",\n        \"std\": 1.4059509916756658,\n        \"min\": 1.23,\n        \"max\": 7.01,\n        \"num_unique_values\": 131,\n        \"samples\": [\n          2.4,\n          1.52,\n          5.78\n        ],\n        \"semantic_type\": \"\",\n        \"description\": \"\"\n      }\n    },\n    {\n      \"column\": \"Infant Mortality (deaths per 1000 births)\",\n      \"properties\": {\n        \"dtype\": \"number\",\n        \"std\": 23.11155795321563,\n        \"min\": 1.7,\n        \"max\": 117.4,\n        \"num_unique_values\": 135,\n        \"samples\": [\n          23.5,\n          9.5,\n          14.9\n        ],\n        \"semantic_type\": \"\",\n        \"description\": \"\"\n      }\n    },\n    {\n      \"column\": \"Enrolment Rate, Tertiary (%)\",\n      \"properties\": {\n        \"dtype\": \"number\",\n        \"std\": 26.913834153231306,\n        \"min\": 0.81,\n        \"max\": 100.8,\n        \"num_unique_values\": 160,\n        \"samples\": [\n          17.86,\n          73.09,\n          25.64\n        ],\n        \"semantic_type\": \"\",\n        \"description\": \"\"\n      }\n    },\n    {\n      \"column\": \"Unemployment, Total (%)\",\n      \"properties\": {\n        \"dtype\": \"number\",\n        \"std\": 7.650915840522479,\n        \"min\": 0.2,\n        \"max\": 59.5,\n        \"num_unique_values\": 113,\n        \"samples\": [\n          4.8,\n          7.2,\n          24.2\n        ],\n        \"semantic_type\": \"\",\n        \"description\": \"\"\n      }\n    },\n    {\n      \"column\": \"Estimated Control of Corruption (scale -2.5 to 2.5)\",\n      \"properties\": {\n        \"dtype\": \"number\",\n        \"std\": 0.9778550688697618,\n        \"min\": -1.56,\n        \"max\": 2.42,\n        \"num_unique_values\": 129,\n        \"samples\": [\n          -0.94,\n          -0.57,\n          0.64\n        ],\n        \"semantic_type\": \"\",\n        \"description\": \"\"\n      }\n    },\n    {\n      \"column\": \"Estimated Government Effectiveness (scale -2.5 to 2.5)\",\n      \"properties\": {\n        \"dtype\": \"number\",\n        \"std\": 0.9235175253156904,\n        \"min\": -1.65,\n        \"max\": 2.21,\n        \"num_unique_values\": 123,\n        \"samples\": [\n          0.83,\n          1.33,\n          0.57\n        ],\n        \"semantic_type\": \"\",\n        \"description\": \"\"\n      }\n    },\n    {\n      \"column\": \"Internet Users (%)\",\n      \"properties\": {\n        \"dtype\": \"number\",\n        \"std\": 28.95428435924831,\n        \"min\": 0.8,\n        \"max\": 96.0,\n        \"num_unique_values\": 156,\n        \"samples\": [\n          56.84,\n          2.38,\n          68.0\n        ],\n        \"semantic_type\": \"\",\n        \"description\": \"\"\n      }\n    }\n  ]\n}"
            }
          },
          "metadata": {},
          "execution_count": 2
        }
      ]
    },
    {
      "cell_type": "markdown",
      "metadata": {
        "id": "qy1hjdsNvTJ0"
      },
      "source": [
        "## Linear Regression"
      ]
    },
    {
      "cell_type": "markdown",
      "metadata": {
        "id": "hnrZ0oPzvsUG"
      },
      "source": [
        "Using LinearRegression from sklearn to fit the function: $y = ax + b$.\n",
        "\n",
        "We can then evaluate it using root mean squared error (RMSE) and also get individual predictions from it."
      ]
    },
    {
      "cell_type": "code",
      "metadata": {
        "id": "lMf92Tqow9Cl"
      },
      "source": [
        "from sklearn.linear_model import LinearRegression\n",
        "\n",
        "X_train_single_feature = X_train[\"GDP per Capita (PPP USD)\"].values.reshape(-1,1) # shaping input from a vector into a matrix\n",
        "X_test_single_feature = X_test[\"GDP per Capita (PPP USD)\"].values.reshape(-1,1)\n",
        "\n",
        "model = LinearRegression(fit_intercept=True)\n",
        "model.fit(X_train_single_feature, Y_train)\n",
        "\n",
        "mse = np.square(Y_test - model.predict(X_test_single_feature)).mean()\n",
        "print(\"RMSE: \" + str(np.sqrt(mse)))\n",
        "\n",
        "example_input = [[8515.35]] # expects a matrix\n",
        "example_output = model.predict(example_input)\n",
        "print(\"Prediction for \" + str(example_input) + \": \" + str(example_output))"
      ],
      "execution_count": 3,
      "outputs": []
    },
    {
      "cell_type": "markdown",
      "source": [
        "We can also plot the resulting function."
      ],
      "metadata": {
        "id": "oHrTVSmDeAh5"
      }
    },
    {
      "cell_type": "code",
      "source": [
        "plt.scatter(data[\"GDP per Capita (PPP USD)\"],\n",
        "            data[\"Enrolment Rate, Tertiary (%)\"])\n",
        "plt.title('GDP vs Enrolment Rate')\n",
        "plt.xlabel(\"GDP per Capita (PPP USD)\")\n",
        "plt.ylabel(\"Enrolment Rate, Tertiary (%)\")\n",
        "\n",
        "x_sample = np.linspace(0, 80000, 100)\n",
        "plt.plot(x_sample,\n",
        "         model.predict(x_sample.reshape(-1,1)),\n",
        "         color='orange')\n",
        "plt.show()"
      ],
      "metadata": {
        "id": "oxAQYoUneDhC",
        "outputId": "57c2bfd9-3578-479e-8798-4de3276cb7cb",
        "colab": {
          "base_uri": "https://localhost:8080/",
          "height": 472
        }
      },
      "execution_count": 5,
      "outputs": [
        {
          "output_type": "display_data",
          "data": {
            "text/plain": [
              "<Figure size 640x480 with 1 Axes>"
            ],
            "image/png": "[encoded data removed]"
          },
          "metadata": {}
        }
      ]
    },
    {
      "cell_type": "markdown",
      "metadata": {
        "id": "7tWQWCau2gXj"
      },
      "source": [
        "## Multiple Linear Regression"
      ]
    },
    {
      "cell_type": "markdown",
      "metadata": {
        "id": "Wj2LJZ_v2oYL"
      },
      "source": [
        "Predicting enrolment rate using all the available variables in the dataset.\n",
        "\n",
        "We have to exclude the country name (because it's text and we can only handle numerical features at the moment) and enrolment rate itself (because using that would be cheating).\n",
        "\n",
        "We can again evaluate it using RMSE. The result is now better (lower) than with regular linear regression, because the model is using more information."
      ]
    },
    {
      "cell_type": "code",
      "metadata": {
        "id": "pnCnXy9K2wjD"
      },
      "source": [
        "model = LinearRegression(fit_intercept=True)\n",
        "model.fit(X_train, Y_train)\n",
        "\n",
        "mse = np.square(Y_test - model.predict(X_test)).mean()\n",
        "print(\"RMSE: \" + str(np.sqrt(mse)))\n",
        "\n",
        "example_input = data.copy().drop([\"Country Name\", \"Enrolment Rate, Tertiary (%)\"], axis=1).iloc[[3]]\n",
        "example_output = model.predict(example_input)\n",
        "print(\"Prediction: \" + str(example_output))"
      ],
      "execution_count": 6,
      "outputs": []
    },
    {
      "cell_type": "markdown",
      "source": [
        "# XGBoost"
      ],
      "metadata": {
        "id": "El3zEt3-mLYh"
      }
    },
    {
      "cell_type": "markdown",
      "source": [
        "XGBoost is a widely used tool that trains an ensemble of multiple weak models to perform the task, which often performs quite well. For comparison, we can also train an XGboost model on the same data."
      ],
      "metadata": {
        "id": "5n9CRJGcmP5M"
      }
    },
    {
      "cell_type": "code",
      "source": [
        "dtrain = xgb.DMatrix(X_train, label=Y_train)\n",
        "dtest = xgb.DMatrix(X_test, label=Y_test)\n",
        "\n",
        "# Define the XGBoost model\n",
        "model = xgb.XGBRegressor(\n",
        "    objective=\"reg:squarederror\",  # Regression task\n",
        "    n_estimators=10,             # Number of trees\n",
        "    learning_rate=0.1,            # Step size shrinkage\n",
        "    max_depth=3,                  # Maximum tree depth\n",
        "    random_state=42,               # Seed for reproducibility\n",
        ")\n",
        "\n",
        "# Train the model\n",
        "model.fit(X_train, Y_train)\n",
        "\n",
        "# Make predictions\n",
        "predictions = model.predict(X_test)\n",
        "\n",
        "# Evaluate the model\n",
        "rmse = np.sqrt(mean_squared_error(Y_test, predictions))\n",
        "print(f\"RMSE: \" + str(rmse))"
      ],
      "metadata": {
        "id": "7mHcv57RmTst",
        "outputId": "8fbcee97-c118-4796-f037-78986ecbb6a9",
        "colab": {
          "base_uri": "https://localhost:8080/"
        }
      },
      "execution_count": 8,
      "outputs": [
        {
          "output_type": "stream",
          "name": "stdout",
          "text": [
            "RMSE: 16.87264880786502\n"
          ]
        }
      ]
    }
  ]
}